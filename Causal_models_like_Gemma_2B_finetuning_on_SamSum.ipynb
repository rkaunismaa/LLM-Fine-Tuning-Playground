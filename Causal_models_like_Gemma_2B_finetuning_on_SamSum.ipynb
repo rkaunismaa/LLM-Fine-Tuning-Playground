{
  "cells": [
    {
      "cell_type": "markdown",
      "metadata": {},
      "source": [
        "#### Saturday, May 11, 2024\n",
        "\n",
        "mamba activate ftllm\n",
        "\n",
        "[Google’s Gemma vs Microsoft’s Phi-2 vs Mistral on Summarisation](https://pub.towardsai.net/googles-gemma-vs-microsoft-s-phi-2-vs-mistral-on-summarisation-6877bc7b1a69)"
      ]
    },
    {
      "cell_type": "code",
      "execution_count": 1,
      "metadata": {},
      "outputs": [],
      "source": [
        "# Make sure we always use this folder for all things huggingface!\n",
        "import os\n",
        "\n",
        "os.environ[\"HF_HOME\"] = \"/home/rob/Data2/huggingface\""
      ]
    },
    {
      "cell_type": "code",
      "execution_count": 2,
      "metadata": {},
      "outputs": [
        {
          "data": {
            "text/plain": [
              "device(type='cuda')"
            ]
          },
          "execution_count": 2,
          "metadata": {},
          "output_type": "execute_result"
        }
      ],
      "source": [
        "# only target the 4090 ...\n",
        "import os\n",
        "os.environ[\"CUDA_VISIBLE_DEVICES\"]=\"0\"\n",
        "\n",
        "import torch\n",
        "device = torch.device(\"cuda\" if torch.cuda.is_available() else \"cpu\")\n",
        "device"
      ]
    },
    {
      "cell_type": "markdown",
      "metadata": {
        "id": "-loIbqKb_3qj"
      },
      "source": [
        "# Code explanation for Causal models"
      ]
    },
    {
      "cell_type": "markdown",
      "metadata": {
        "id": "UU9gHiMv_kqJ"
      },
      "source": [
        "Welcome at this Colab Code sharing notebook. This is part of the Medium publication: \"[Google's Gemma vs Microsoft's Phi-2 vs Mistral on Summarisation](https://medium.com/@Farhang87/googles-gemma-vs-microsoft-s-phi-2-vs-mistral-on-summarisation-6877bc7b1a69)\". Read the full article for further guidance."
      ]
    },
    {
      "cell_type": "markdown",
      "metadata": {
        "id": "9BcbfudnAEBj"
      },
      "source": [
        "Let's start by installing the libraries."
      ]
    },
    {
      "cell_type": "code",
      "execution_count": null,
      "metadata": {
        "id": "uvLrttbP9_6m"
      },
      "outputs": [],
      "source": [
        "# Install necessary libraries with specific versions to ensure compatibility\n",
        "# !pip install torch==2.1.2 tensorboard rouge_score\n",
        "# !pip install --upgrade datasets==2.16.1 accelerate==0.26.1 evaluate==0.4.1 bitsandbytes==0.42.0\n",
        "# !pip install --upgrade git+https://github.com/huggingface/trl@a3c5b7178ac4f65569975efadc97db2f3749c65e\n",
        "# !pip install --upgrade git+https://github.com/huggingface/peft@4a1559582281fc3c9283892caea8ccef1d6f5a4f\n",
        "# !pip uninstall -y transformers && pip install git+https://github.com/huggingface/transformers\n",
        "# !pip install ninja packaging\n",
        "# !MAX_JOBS=4 pip install flash-attn --no-build-isolation"
      ]
    },
    {
      "cell_type": "markdown",
      "metadata": {
        "id": "BlImszTsCxm6"
      },
      "source": [
        "# 1. Logging into Huggingface and loading the SamSum dataset"
      ]
    },
    {
      "cell_type": "code",
      "execution_count": 3,
      "metadata": {
        "id": "dBV64-j1-F4D"
      },
      "outputs": [
        {
          "data": {
            "application/vnd.jupyter.widget-view+json": {
              "model_id": "b4af3369b2e3422cbb4ff6a642e8e748",
              "version_major": 2,
              "version_minor": 0
            },
            "text/plain": [
              "VBox(children=(HTML(value='<center> <img\\nsrc=https://huggingface.co/front/assets/huggingface_logo-noborder.sv…"
            ]
          },
          "metadata": {},
          "output_type": "display_data"
        }
      ],
      "source": [
        "from huggingface_hub import notebook_login\n",
        "\n",
        "notebook_login()"
      ]
    },
    {
      "cell_type": "code",
      "execution_count": 3,
      "metadata": {
        "id": "umIWdzKb-L4m"
      },
      "outputs": [],
      "source": [
        "from datasets import load_dataset\n",
        "\n",
        "# Load the SamSum dataset for training, validation, and testing\n",
        "dataset = load_dataset(\"samsum\")\n",
        "train_dataset, validation_dataset, test_dataset = dataset['train'], dataset['validation'], dataset['test']"
      ]
    },
    {
      "cell_type": "markdown",
      "metadata": {
        "id": "w_ECiWAEAO_N"
      },
      "source": [
        "From here-on, you can either go further with 2. Baseline Rouge Evaluation, 3. Finetuning, or 4. Post-finetuning Rouge evaluation."
      ]
    },
    {
      "cell_type": "markdown",
      "metadata": {
        "id": "8TWoEzjb-VsB"
      },
      "source": [
        "# 2. Baseline Rouge evaluation"
      ]
    },
    {
      "cell_type": "markdown",
      "metadata": {
        "id": "LfMZH46xAeIa"
      },
      "source": [
        "We'll start by loading the model, if possible in full precision, and the tokenizer."
      ]
    },
    {
      "cell_type": "code",
      "execution_count": 4,
      "metadata": {},
      "outputs": [],
      "source": [
        "from transformers import AutoModelForCausalLM, AutoTokenizer, TextGenerationPipeline\n",
        "import torch\n",
        "\n",
        "# Replace with your actual BioMedLM model checkpoint\n",
        "model_id = \"google/gemma-2b\""
      ]
    },
    {
      "cell_type": "markdown",
      "metadata": {},
      "source": [
        "Hmm first time I tried to download this, I got the error message ...\n",
        "\n",
        "    Cannot access gated repo for url https://huggingface.co/google/gemma-2b/resolve/main/config.json.\n",
        "    Access to model google/gemma-2b is restricted. You must be authenticated to access it."
      ]
    },
    {
      "cell_type": "code",
      "execution_count": 5,
      "metadata": {},
      "outputs": [
        {
          "name": "stderr",
          "output_type": "stream",
          "text": [
            "/home/rob/miniforge3/envs/ftllm/lib/python3.11/site-packages/huggingface_hub/file_download.py:1132: FutureWarning: `resume_download` is deprecated and will be removed in version 1.0.0. Downloads always resume when possible. If you want to force a new download, use `force_download=True`.\n",
            "  warnings.warn(\n"
          ]
        }
      ],
      "source": [
        "tokenizer = AutoTokenizer.from_pretrained(model_id, add_eos_token=True, padding_side='right', trust_remote_code=True)"
      ]
    },
    {
      "cell_type": "code",
      "execution_count": 6,
      "metadata": {},
      "outputs": [
        {
          "data": {
            "application/vnd.jupyter.widget-view+json": {
              "model_id": "12bc2f4fa9dd497890050900932438d6",
              "version_major": 2,
              "version_minor": 0
            },
            "text/plain": [
              "config.json:   0%|          | 0.00/627 [00:00<?, ?B/s]"
            ]
          },
          "metadata": {},
          "output_type": "display_data"
        },
        {
          "data": {
            "application/vnd.jupyter.widget-view+json": {
              "model_id": "5d0baf1886d14669b9086c08e7c44641",
              "version_major": 2,
              "version_minor": 0
            },
            "text/plain": [
              "model.safetensors.index.json:   0%|          | 0.00/13.5k [00:00<?, ?B/s]"
            ]
          },
          "metadata": {},
          "output_type": "display_data"
        },
        {
          "data": {
            "application/vnd.jupyter.widget-view+json": {
              "model_id": "cfb79a4b8f474ecbb781f2ef55836c32",
              "version_major": 2,
              "version_minor": 0
            },
            "text/plain": [
              "Downloading shards:   0%|          | 0/2 [00:00<?, ?it/s]"
            ]
          },
          "metadata": {},
          "output_type": "display_data"
        },
        {
          "data": {
            "application/vnd.jupyter.widget-view+json": {
              "model_id": "152b1347bfac495e827a05926d090c33",
              "version_major": 2,
              "version_minor": 0
            },
            "text/plain": [
              "model-00001-of-00002.safetensors:   0%|          | 0.00/4.95G [00:00<?, ?B/s]"
            ]
          },
          "metadata": {},
          "output_type": "display_data"
        },
        {
          "data": {
            "application/vnd.jupyter.widget-view+json": {
              "model_id": "ac961b64e03643328e4ff0c2d4e47f23",
              "version_major": 2,
              "version_minor": 0
            },
            "text/plain": [
              "model-00002-of-00002.safetensors:   0%|          | 0.00/67.1M [00:00<?, ?B/s]"
            ]
          },
          "metadata": {},
          "output_type": "display_data"
        },
        {
          "name": "stderr",
          "output_type": "stream",
          "text": [
            "Gemma's activation function should be approximate GeLU and not exact GeLU.\n",
            "Changing the activation function to `gelu_pytorch_tanh`.if you want to use the legacy `gelu`, edit the `model.config` to set `hidden_activation=gelu`   instead of `hidden_act`. See https://github.com/huggingface/transformers/pull/29402 for more details.\n"
          ]
        },
        {
          "data": {
            "application/vnd.jupyter.widget-view+json": {
              "model_id": "57c55f7645b54cc1b3bfac8eef3ae1de",
              "version_major": 2,
              "version_minor": 0
            },
            "text/plain": [
              "Loading checkpoint shards:   0%|          | 0/2 [00:00<?, ?it/s]"
            ]
          },
          "metadata": {},
          "output_type": "display_data"
        },
        {
          "data": {
            "application/vnd.jupyter.widget-view+json": {
              "model_id": "2144881405cb49b294e095237bfcbd05",
              "version_major": 2,
              "version_minor": 0
            },
            "text/plain": [
              "generation_config.json:   0%|          | 0.00/137 [00:00<?, ?B/s]"
            ]
          },
          "metadata": {},
          "output_type": "display_data"
        }
      ],
      "source": [
        "model = AutoModelForCausalLM.from_pretrained(model_id, torch_dtype=torch.float32, trust_remote_code=True).to(\"cuda\")\n",
        "# 70m 54.6s"
      ]
    },
    {
      "cell_type": "code",
      "execution_count": 7,
      "metadata": {},
      "outputs": [
        {
          "name": "stdout",
          "output_type": "stream",
          "text": [
            "Sat May 11 19:48:13 2024       \n",
            "+---------------------------------------------------------------------------------------+\n",
            "| NVIDIA-SMI 545.29.06              Driver Version: 545.29.06    CUDA Version: 12.3     |\n",
            "|-----------------------------------------+----------------------+----------------------+\n",
            "| GPU  Name                 Persistence-M | Bus-Id        Disp.A | Volatile Uncorr. ECC |\n",
            "| Fan  Temp   Perf          Pwr:Usage/Cap |         Memory-Usage | GPU-Util  Compute M. |\n",
            "|                                         |                      |               MIG M. |\n",
            "|=========================================+======================+======================|\n",
            "|   0  NVIDIA GeForce GTX 1050        Off | 00000000:01:00.0  On |                  N/A |\n",
            "|  0%   58C    P0              N/A /  70W |    372MiB /  2048MiB |      6%      Default |\n",
            "|                                         |                      |                  N/A |\n",
            "+-----------------------------------------+----------------------+----------------------+\n",
            "|   1  NVIDIA GeForce RTX 4090        Off | 00000000:02:00.0 Off |                  Off |\n",
            "|  0%   31C    P8              13W / 450W |   9966MiB / 24564MiB |      0%      Default |\n",
            "|                                         |                      |                  N/A |\n",
            "+-----------------------------------------+----------------------+----------------------+\n",
            "                                                                                         \n",
            "+---------------------------------------------------------------------------------------+\n",
            "| Processes:                                                                            |\n",
            "|  GPU   GI   CI        PID   Type   Process name                            GPU Memory |\n",
            "|        ID   ID                                                             Usage      |\n",
            "|=======================================================================================|\n",
            "|    0   N/A  N/A      2217      G   /usr/lib/xorg/Xorg                          230MiB |\n",
            "|    0   N/A  N/A      2473      G   /usr/bin/gnome-shell                         41MiB |\n",
            "|    0   N/A  N/A     13630      G   ...,262144 --variations-seed-version=1       23MiB |\n",
            "|    0   N/A  N/A     20711      G   ...erProcess --variations-seed-version       71MiB |\n",
            "|    1   N/A  N/A      2217      G   /usr/lib/xorg/Xorg                            4MiB |\n",
            "|    1   N/A  N/A     22445      C   ...ob/miniforge3/envs/ftllm/bin/python     9946MiB |\n",
            "+---------------------------------------------------------------------------------------+\n"
          ]
        }
      ],
      "source": [
        "!nvidia-smi"
      ]
    },
    {
      "cell_type": "code",
      "execution_count": 8,
      "metadata": {
        "id": "sqpyVR3R-Uz-"
      },
      "outputs": [],
      "source": [
        "if tokenizer.pad_token is None:\n",
        "    tokenizer.pad_token = tokenizer.eos_token"
      ]
    },
    {
      "cell_type": "markdown",
      "metadata": {
        "id": "s8OF8ib7Ac-o"
      },
      "source": [
        "For sanity checks, I always run this code block to see how the model outputs some sample dialogue rows from the Test-dataset, before commencing the Rouge evaluation."
      ]
    },
    {
      "cell_type": "code",
      "execution_count": 9,
      "metadata": {},
      "outputs": [],
      "source": [
        "from torch.cuda.amp import autocast\n",
        "import random\n",
        "\n",
        "def generate_summary(dialogue):\n",
        "    # Adjusting the prompt to QA format\n",
        "    prompt = f\"Instruct: Please summarize the following dialogue in less than 70 words:\\n\\n{dialogue}\\nOutput:\"\n",
        "    inputs = tokenizer(prompt, return_tensors=\"pt\", truncation=True, max_length=512, padding=True).to(\"cuda\")\n",
        "\n",
        "    with autocast():\n",
        "        outputs = model.generate(**inputs, max_new_tokens=50, num_return_sequences=1)\n",
        "\n",
        "    # Decode the generated text\n",
        "    generated_text = tokenizer.decode(outputs[0], skip_special_tokens=True)\n",
        "\n",
        "    # Extracting the summary part from the generated text\n",
        "    summary_start = generated_text.find(\"Output:\")\n",
        "    if summary_start != -1:\n",
        "        summary = generated_text[summary_start + len(\"Output:\"):]\n",
        "    else:\n",
        "        summary = generated_text\n",
        "    return summary.strip()"
      ]
    },
    {
      "cell_type": "code",
      "execution_count": null,
      "metadata": {},
      "outputs": [],
      "source": []
    },
    {
      "cell_type": "code",
      "execution_count": 10,
      "metadata": {},
      "outputs": [],
      "source": [
        "# Test the summarization on random samples\n",
        "random_samples = random.sample(list(dataset), 3)"
      ]
    },
    {
      "cell_type": "code",
      "execution_count": 12,
      "metadata": {},
      "outputs": [
        {
          "data": {
            "text/plain": [
              "['validation', 'test', 'train']"
            ]
          },
          "execution_count": 12,
          "metadata": {},
          "output_type": "execute_result"
        }
      ],
      "source": [
        "random_samples"
      ]
    },
    {
      "cell_type": "code",
      "execution_count": 11,
      "metadata": {
        "id": "qSVHvqmC-0FK"
      },
      "outputs": [
        {
          "ename": "TypeError",
          "evalue": "string indices must be integers, not 'str'",
          "output_type": "error",
          "traceback": [
            "\u001b[0;31m---------------------------------------------------------------------------\u001b[0m",
            "\u001b[0;31mTypeError\u001b[0m                                 Traceback (most recent call last)",
            "Cell \u001b[0;32mIn[11], line 2\u001b[0m\n\u001b[1;32m      1\u001b[0m \u001b[38;5;28;01mfor\u001b[39;00m sample \u001b[38;5;129;01min\u001b[39;00m random_samples:\n\u001b[0;32m----> 2\u001b[0m     dialogue \u001b[38;5;241m=\u001b[39m \u001b[43msample\u001b[49m\u001b[43m[\u001b[49m\u001b[38;5;124;43m\"\u001b[39;49m\u001b[38;5;124;43mdialogue\u001b[39;49m\u001b[38;5;124;43m\"\u001b[39;49m\u001b[43m]\u001b[49m\n\u001b[1;32m      3\u001b[0m     true_summary \u001b[38;5;241m=\u001b[39m sample[\u001b[38;5;124m\"\u001b[39m\u001b[38;5;124msummary\u001b[39m\u001b[38;5;124m\"\u001b[39m]\n\u001b[1;32m      5\u001b[0m     generated_summary \u001b[38;5;241m=\u001b[39m generate_summary(dialogue)\n",
            "\u001b[0;31mTypeError\u001b[0m: string indices must be integers, not 'str'"
          ]
        }
      ],
      "source": [
        "for sample in random_samples:\n",
        "    dialogue = sample[\"dialogue\"]\n",
        "    true_summary = sample[\"summary\"]\n",
        "\n",
        "    generated_summary = generate_summary(dialogue)\n",
        "\n",
        "    print(f\"Dialogue: {dialogue}\\nTrue Summary: {true_summary}\\nGenerated Summary: {generated_summary}\\n\")\n"
      ]
    },
    {
      "cell_type": "markdown",
      "metadata": {
        "id": "g3sF20kcAzAa"
      },
      "source": [
        "Then we define the generate_summaries function which will be used during the Rouge calculations."
      ]
    },
    {
      "cell_type": "code",
      "execution_count": null,
      "metadata": {
        "id": "wK2IgbwI-4C4"
      },
      "outputs": [],
      "source": [
        "def generate_summaries(dialogues):\n",
        "    generated_summaries = []\n",
        "    for dialogue in dialogues:\n",
        "        # Adjusted prompt format for Phi-2\n",
        "        prompt = f\"Instruct: Please summarize the following dialogue in less than 70 words:\\n\\n{dialogue}\\nOutput:\"\n",
        "        inputs = tokenizer(prompt, return_tensors=\"pt\", padding=True, truncation=True, max_length=512).to(\"cuda\")\n",
        "\n",
        "        with autocast():\n",
        "            outputs = model.generate(**inputs, max_new_tokens=50, pad_token_id=tokenizer.eos_token_id, num_return_sequences=1)\n",
        "\n",
        "        # Decode and clean up the generated text\n",
        "        generated_text = tokenizer.decode(outputs[0], skip_special_tokens=True)\n",
        "\n",
        "        # Extracting the summary part from the generated text\n",
        "        summary_start = generated_text.find(\"Output:\")\n",
        "        if summary_start != -1:\n",
        "            summary = generated_text[summary_start + len(\"Output:\"):]\n",
        "        else:\n",
        "            summary = generated_text\n",
        "        generated_summaries.append(summary.strip())\n",
        "\n",
        "    return generated_summaries\n"
      ]
    },
    {
      "cell_type": "code",
      "execution_count": null,
      "metadata": {
        "id": "TdYCmNJ1_SRJ"
      },
      "outputs": [],
      "source": [
        "import evaluate\n",
        "from tqdm.auto import tqdm\n",
        "\n",
        "# Initialize the ROUGE metric\n",
        "rouge = evaluate.load(\"rouge\")\n",
        "\n",
        "rouge_scores = {'rouge1': [], 'rouge2': [], 'rougeL': [], 'rougeLsum': []}\n",
        "batch_size = 8  # Adjust based on your GPU's capabilities\n",
        "\n",
        "for i in tqdm(range(0, len(test_dataset), batch_size), desc=\"Processing\"):\n",
        "    batch_indices = list(range(i, min(i + batch_size, len(test_dataset))))\n",
        "    batch_dataset = test_dataset.select(batch_indices)\n",
        "    batch_dialogues = [example['dialogue'] for example in batch_dataset]\n",
        "    true_summaries = [example['summary'] for example in batch_dataset]\n",
        "\n",
        "    generated_summaries = generate_summaries(batch_dialogues)\n",
        "    scores = rouge.compute(predictions=generated_summaries, references=true_summaries)\n",
        "\n",
        "    for key in scores.keys():\n",
        "        # Directly append the score as a percentage without trying to access non-existing dictionary keys\n",
        "        rouge_scores[key].append(scores[key] * 100)\n",
        "\n",
        "# Calculate average ROUGE scores\n",
        "average_scores = {key: sum(values) / len(values) for key, values in rouge_scores.items()}\n",
        "print(\"Average Baseline ROUGE Scores:\", average_scores)\n"
      ]
    },
    {
      "cell_type": "markdown",
      "metadata": {
        "id": "FqmfsbXkA_mC"
      },
      "source": [
        "# 3 Fine-tuning with QLORA **vetgedrukte tekst**"
      ]
    },
    {
      "cell_type": "markdown",
      "metadata": {
        "id": "g4rwsqs_BHeH"
      },
      "source": [
        "Before starting the Fine-tuning process, it helps to get as much GPU memory as possible. I suggest to Restart this Session, so the GPU get's flushed. Do run the Step 1, before commencing further."
      ]
    },
    {
      "cell_type": "code",
      "execution_count": null,
      "metadata": {
        "id": "k3Nj0cG7A-1g"
      },
      "outputs": [],
      "source": [
        "# Loading the model\n",
        "import torch\n",
        "from transformers import AutoModelForCausalLM, BitsAndBytesConfig, AutoTokenizer\n",
        "from peft import prepare_model_for_kbit_training\n",
        "\n",
        "model_id = \"google/gemma-2b\"\n",
        "\n",
        "# Configure model for 4-bit quantization\n",
        "bnb_config = BitsAndBytesConfig(\n",
        "    load_in_4bit=True,\n",
        "    bnb_4bit_quant_type=\"nf4\",\n",
        "    bnb_4bit_use_double_quant=True,\n",
        "    bnb_4bit_compute_dtype=torch.bfloat16\n",
        ")\n",
        "\n",
        "# Load the model with the specified quantization configuration\n",
        "model = AutoModelForCausalLM.from_pretrained(\n",
        "    model_id,\n",
        "    quantization_config=bnb_config,\n",
        "    use_cache=False,\n",
        "    device_map=\"auto\",\n",
        "    trust_remote_code=True,\n",
        "    attn_implementation=\"flash_attention_2\" #only available on A100 GPU\n",
        ")\n",
        "\n",
        "# Prepare the model for k-bit training and load tokenizer\n",
        "model = prepare_model_for_kbit_training(model)\n",
        "tokenizer = AutoTokenizer.from_pretrained(model_id)\n",
        "tokenizer.pad_token = tokenizer.eos_token  # Ensure padding token is correctly set\n",
        "tokenizer.padding_side = \"right\"  # Set padding side to right for consistency"
      ]
    },
    {
      "cell_type": "markdown",
      "metadata": {
        "id": "fq6A9Z5NBfAB"
      },
      "source": [
        "Same thing as earlier, do run these tests before commencing the training. To make sure the model is loaded correctly. As you can see, I changed the prompt here, to make sure it aligns to the training format."
      ]
    },
    {
      "cell_type": "code",
      "execution_count": null,
      "metadata": {
        "id": "WFtWXbmoBb_H"
      },
      "outputs": [],
      "source": [
        "from torch.cuda.amp import autocast\n",
        "import random\n",
        "\n",
        "def generate_summary(dialogue):\n",
        "    # Adjusting the prompt to QA format\n",
        "    prompt = f\"\"\"<s>###Instruction:\n",
        "              You are a helpful, respectful and honest assistant. \\\n",
        "              Your task is to summarize the following dialogue. \\\n",
        "              Your answer should be based on the provided dialogue only.\\n ### Dialogue:\n",
        "              {dialogue}\\n Summary:\"\"\"\n",
        "    inputs = tokenizer(prompt, return_tensors=\"pt\", truncation=True, max_length=512, padding=True).to(\"cuda\")\n",
        "\n",
        "    with autocast():\n",
        "        outputs = model.generate(**inputs, max_new_tokens=50, num_return_sequences=1)\n",
        "\n",
        "    # Decode the generated text\n",
        "    generated_text = tokenizer.decode(outputs[0], skip_special_tokens=True)\n",
        "\n",
        "    # Extracting the summary part from the generated text\n",
        "    summary_start = generated_text.find(\"Summary:\")\n",
        "    if summary_start != -1:\n",
        "        summary = generated_text[summary_start + len(\"Summary:\"):]\n",
        "    else:\n",
        "        summary = generated_text\n",
        "    return summary.strip()\n",
        "\n",
        "# Test the summarization on random samples\n",
        "random_samples = random.sample(list(test_dataset), 3)\n",
        "\n",
        "for sample in random_samples:\n",
        "    dialogue = sample[\"dialogue\"]\n",
        "    true_summary = sample[\"summary\"]\n",
        "\n",
        "    generated_summary = generate_summary(dialogue)\n",
        "\n",
        "    print(f\"Dialogue: {dialogue}\\nTrue Summary: {true_summary}\\nGenerated Summary: {generated_summary}\\n\")\n"
      ]
    },
    {
      "cell_type": "code",
      "execution_count": null,
      "metadata": {
        "id": "nv--53wj_S-3"
      },
      "outputs": [],
      "source": [
        "# Prompt formatter\n",
        "def prompt_formatter(sample):\n",
        "return f\"\"\"<s>### Instruction:\n",
        "You are a helpful, respectful and honest assistant. \\\n",
        "Your task is to summarize the following dialogue in a concise way. \\\n",
        "Your answer should be based on the provided dialogue only.\n",
        "### Dialogue:\n",
        "{sample['dialogue']}\n",
        "### Summary:\n",
        "{sample['summary']} </s>\"\"\"\n",
        "n = 0\n",
        "print(prompt_formatter(train_dataset[n]))"
      ]
    },
    {
      "cell_type": "markdown",
      "metadata": {
        "id": "_EABV0GqCP8y"
      },
      "source": [
        "Before setting the training variables for PEFT, have look at the Linear layers that should be defined as the target_modules by running:"
      ]
    },
    {
      "cell_type": "code",
      "execution_count": null,
      "metadata": {
        "colab": {
          "base_uri": "https://localhost:8080/",
          "height": 141
        },
        "id": "9Ba2OBwrB51g",
        "outputId": "777d9666-7022-4387-b49a-4bc8dda9f45e"
      },
      "outputs": [
        {
          "ename": "NameError",
          "evalue": "name 'model' is not defined",
          "output_type": "error",
          "traceback": [
            "\u001b[0;31m---------------------------------------------------------------------------\u001b[0m",
            "\u001b[0;31mNameError\u001b[0m                                 Traceback (most recent call last)",
            "\u001b[0;32m<ipython-input-1-a87813ffe34d>\u001b[0m in \u001b[0;36m<cell line: 1>\u001b[0;34m()\u001b[0m\n\u001b[0;32m----> 1\u001b[0;31m \u001b[0mprint\u001b[0m\u001b[0;34m(\u001b[0m\u001b[0mmodel\u001b[0m\u001b[0;34m)\u001b[0m\u001b[0;34m\u001b[0m\u001b[0;34m\u001b[0m\u001b[0m\n\u001b[0m",
            "\u001b[0;31mNameError\u001b[0m: name 'model' is not defined"
          ]
        }
      ],
      "source": [
        "print(model)"
      ]
    },
    {
      "cell_type": "code",
      "execution_count": null,
      "metadata": {
        "id": "p-tuk6DLB9mm"
      },
      "outputs": [],
      "source": [
        "from peft import LoraConfig, get_peft_model\n",
        "\n",
        "# the QLoRA paper recommends LoRA dropout = 0.05 for small models (less than 13B)\n",
        "\n",
        "peft_config = LoraConfig(\n",
        "target_modules=[\n",
        "\"q_proj\",\n",
        "\"k_proj\",\n",
        "\"v_proj\",\n",
        "\"o_proj\",\n",
        "\"gate_proj\",\n",
        "\"up_proj\",\n",
        "\"down_proj\",\n",
        "\"lm_head\",\n",
        "],\n",
        "lora_alpha=16,\n",
        "lora_dropout=0.05,\n",
        "r=8,\n",
        "bias=\"none\",\n",
        "task_type=\"CAUSAL_LM\",\n",
        ")\n",
        "model = get_peft_model(model, peft_config)"
      ]
    },
    {
      "cell_type": "code",
      "execution_count": null,
      "metadata": {
        "id": "iF7f1gYQB-_G"
      },
      "outputs": [],
      "source": [
        "from transformers import TrainingArguments\n",
        "from trl import SFTTrainer\n",
        "\n",
        "# set up the trainer\n",
        "args = TrainingArguments(\n",
        "output_dir=\"gemma2b-samsum\",\n",
        "num_train_epochs=1,\n",
        "per_device_train_batch_size=4,\n",
        "gradient_accumulation_steps=2,\n",
        "logging_steps=4,\n",
        "save_strategy=\"epoch\",\n",
        "learning_rate=2e-4,\n",
        "optim=\"paged_adamw_32bit\",\n",
        "bf16=True, # make sure this works with your GPU, otherwise set to False and choose fp16 = True\n",
        "fp16=False,\n",
        "tf32=True, # make sure this works with your GPU, otherwise set to False and choose fp16 = True\n",
        "max_grad_norm=0.3,\n",
        "warmup_ratio=0.03,\n",
        "lr_scheduler_type=\"constant\",\n",
        "disable_tqdm=False,\n",
        ")\n",
        "\n",
        "trainer = SFTTrainer(\n",
        "model=model,\n",
        "train_dataset=train_dataset,\n",
        "peft_config=peft_config,\n",
        "max_seq_length=1024,\n",
        "tokenizer=tokenizer,\n",
        "packing=True,\n",
        "formatting_func=prompt_formatter,\n",
        "args=args,\n",
        ")"
      ]
    },
    {
      "cell_type": "code",
      "execution_count": null,
      "metadata": {
        "id": "JOlTous9B-12"
      },
      "outputs": [],
      "source": [
        "trainer.train()"
      ]
    },
    {
      "cell_type": "markdown",
      "metadata": {
        "id": "Os0LU092Cai8"
      },
      "source": [
        "After fine-tuning, share the PEFT adapter on your Huggingface account, to re-use for the next steps."
      ]
    },
    {
      "cell_type": "code",
      "execution_count": null,
      "metadata": {
        "id": "F9pqmE86B-rD"
      },
      "outputs": [],
      "source": [
        "# Save our tokenizer and create model card\n",
        "tokenizer.save_pretrained(\"gemma2b-samsum_4bitqlora\")\n",
        "trainer.create_model_card()\n",
        "# save model\n",
        "trainer.save_model()\n",
        "# Push the results to the hub\n",
        "trainer.push_to_hub()"
      ]
    },
    {
      "cell_type": "markdown",
      "metadata": {
        "id": "IHyj0V0kCk6h"
      },
      "source": [
        "# 4. Calculating the Rouge scores after fine-tuning"
      ]
    },
    {
      "cell_type": "markdown",
      "metadata": {
        "id": "zQl5UM9-CslG"
      },
      "source": [
        "After the Fine-tuning process, it helps to get as much GPU memory as possible. I suggest to Restart this Session, so the GPU get's flushed. Do run  Step 1, before commencing further."
      ]
    },
    {
      "cell_type": "markdown",
      "metadata": {
        "id": "tAj-iEvjDc6T"
      },
      "source": [
        "Let's load the PEFT adapter, model and tokenizer."
      ]
    },
    {
      "cell_type": "code",
      "execution_count": null,
      "metadata": {
        "id": "N9sKeD5FCkYi"
      },
      "outputs": [],
      "source": [
        "import torch\n",
        "from peft import PeftModel, PeftConfig\n",
        "from transformers import AutoModelForCausalLM, AutoTokenizer\n",
        "\n",
        "config = PeftConfig.from_pretrained(\"Farhang87/gemma2b-samsum\") #use your own Huggingface link\n",
        "model = AutoModelForCausalLM.from_pretrained(\"google/gemma-2b\", trust_remote_code=True, device_map=\"auto\")\n",
        "model = PeftModel.from_pretrained(model, \"Farhang87/gemma2b-samsum\") #use your own Huggingface link\n",
        "\n",
        "tokenizer = AutoTokenizer.from_pretrained(\"google/gemma-2b\")\n",
        "tokenizer.pad_token = tokenizer.eos_token\n",
        "tokenizer.padding_side = \"right\""
      ]
    },
    {
      "cell_type": "markdown",
      "metadata": {
        "id": "FsmdBH38DzGN"
      },
      "source": [
        "Like earlier, do some sanity checks again, making sure the PEFT adapter has been loaded correctly."
      ]
    },
    {
      "cell_type": "code",
      "execution_count": null,
      "metadata": {
        "id": "qgYR56Z1DqeE"
      },
      "outputs": [],
      "source": [
        "from torch.cuda.amp import autocast\n",
        "import random\n",
        "\n",
        "def generate_summary(dialogue):\n",
        "    # Adjusting the prompt to QA format\n",
        "    prompt = f\"\"\"<s>###Instruction:\n",
        "              You are a helpful, respectful and honest assistant. \\\n",
        "              Your task is to summarize the following dialogue. \\\n",
        "              Your answer should be based on the provided dialogue only.\\n ### Dialogue:\n",
        "              {dialogue}\\n Summary:\"\"\"\n",
        "    inputs = tokenizer(prompt, return_tensors=\"pt\", truncation=True, max_length=512, padding=True).to(\"cuda\")\n",
        "\n",
        "    with autocast():\n",
        "        outputs = model.generate(**inputs, max_new_tokens=50, num_return_sequences=1)\n",
        "\n",
        "    # Decode the generated text\n",
        "    generated_text = tokenizer.decode(outputs[0], skip_special_tokens=True)\n",
        "\n",
        "    # Extracting the summary part from the generated text\n",
        "    summary_start = generated_text.find(\"Summary:\")\n",
        "    if summary_start != -1:\n",
        "        summary = generated_text[summary_start + len(\"Summary:\"):]\n",
        "    else:\n",
        "        summary = generated_text\n",
        "    return summary.strip()\n",
        "\n",
        "# Test the summarization on random samples\n",
        "random_samples = random.sample(list(test_dataset), 3)\n",
        "\n",
        "for sample in random_samples:\n",
        "    dialogue = sample[\"dialogue\"]\n",
        "    true_summary = sample[\"summary\"]\n",
        "\n",
        "    generated_summary = generate_summary(dialogue)\n",
        "\n",
        "    print(f\"Dialogue: {dialogue}\\nTrue Summary: {true_summary}\\nGenerated Summary: {generated_summary}\\n\")\n"
      ]
    },
    {
      "cell_type": "code",
      "execution_count": null,
      "metadata": {
        "id": "b2-ikERbD5VZ"
      },
      "outputs": [],
      "source": [
        "from torch.cuda.amp import autocast\n",
        "\n",
        "def generate_summaries(dialogues):\n",
        "    generated_summaries = []\n",
        "    for dialogue in dialogues:\n",
        "        # Use the same prompt format as in generate_summary\n",
        "        prompt = f\"\"\"<s>###Instruction:\n",
        "              You are a helpful, respectful and honest assistant. \\\n",
        "              Your task is to summarize the following dialogue. \\\n",
        "              Your answer should be based on the provided dialogue only.\\n ### Dialogue:\n",
        "              {dialogue}\\n Summary:\"\"\"\n",
        "        inputs = tokenizer(prompt, return_tensors=\"pt\", padding=True, truncation=True, max_length=512).to(\"cuda\")\n",
        "\n",
        "        with autocast():\n",
        "            outputs = model.generate(**inputs, max_new_tokens=70, pad_token_id=tokenizer.eos_token_id, num_return_sequences=1)\n",
        "\n",
        "        generated_text = tokenizer.decode(outputs[0], skip_special_tokens=True)\n",
        "        # Extracting the summary part from the generated text following the \"Summary:\" marker\n",
        "        summary_start = generated_text.find(\"Summary:\")\n",
        "        summary = generated_text[summary_start + len(\"Summary:\"):] if summary_start != -1 else generated_text\n",
        "        generated_summaries.append(summary.strip())\n",
        "\n",
        "    return generated_summaries"
      ]
    },
    {
      "cell_type": "code",
      "execution_count": null,
      "metadata": {
        "id": "8lp4m0OnD83o"
      },
      "outputs": [],
      "source": [
        "import evaluate\n",
        "from datasets import load_dataset\n",
        "from tqdm.auto import tqdm\n",
        "\n",
        "# Initialize the ROUGE metric\n",
        "rouge = evaluate.load(\"rouge\")\n",
        "\n",
        "rouge_scores = {'rouge1': [], 'rouge2': [], 'rougeL': [], 'rougeLsum': []}\n",
        "batch_size = 8  # Adjust based on your GPU's capabilities\n",
        "\n",
        "for i in tqdm(range(0, len(test_dataset), batch_size), desc=\"Processing\"):\n",
        "    batch_indices = list(range(i, min(i + batch_size, len(test_dataset))))\n",
        "    batch_dataset = test_dataset.select(batch_indices)\n",
        "    batch_dialogues = [example['dialogue'] for example in batch_dataset]\n",
        "    true_summaries = [example['summary'] for example in batch_dataset]\n",
        "\n",
        "    generated_summaries = generate_summaries(batch_dialogues)\n",
        "    scores = rouge.compute(predictions=generated_summaries, references=true_summaries)\n",
        "\n",
        "    for key in scores.keys():\n",
        "        # Directly append the score as a percentage without trying to access non-existing dictionary keys\n",
        "        rouge_scores[key].append(scores[key] * 100)\n",
        "\n",
        "# Calculate average ROUGE scores\n",
        "average_scores = {key: sum(values) / len(values) for key, values in rouge_scores.items()}\n",
        "print(\"Average ROUGE Scores after Fine-tuning:\", average_scores)\n"
      ]
    }
  ],
  "metadata": {
    "colab": {
      "provenance": []
    },
    "kernelspec": {
      "display_name": "Python 3",
      "name": "python3"
    },
    "language_info": {
      "codemirror_mode": {
        "name": "ipython",
        "version": 3
      },
      "file_extension": ".py",
      "mimetype": "text/x-python",
      "name": "python",
      "nbconvert_exporter": "python",
      "pygments_lexer": "ipython3",
      "version": "3.11.9"
    }
  },
  "nbformat": 4,
  "nbformat_minor": 0
}
